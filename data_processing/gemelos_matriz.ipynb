{
 "cells": [
  {
   "cell_type": "code",
   "execution_count": 17,
   "metadata": {},
   "outputs": [],
   "source": [
    "# n: personas que no tienen el día que hay que completar\n",
    "# m: personas que tienen el día que hay que completar"
   ]
  },
  {
   "cell_type": "code",
   "execution_count": 5,
   "metadata": {},
   "outputs": [],
   "source": [
    "import numpy as np\n",
    "import polars as pl\n",
    "from tqdm import tqdm\n",
    "from cvxpy import Minimize, Variable, Problem, SCS, ECOS, quad_form, diag, sqrt, norm"
   ]
  },
  {
   "cell_type": "code",
   "execution_count": 137,
   "metadata": {},
   "outputs": [
    {
     "name": "stderr",
     "output_type": "stream",
     "text": [
      "  9%|▉         | 546/6000 [10:42<1:47:01,  1.18s/it]\n"
     ]
    },
    {
     "ename": "KeyboardInterrupt",
     "evalue": "",
     "output_type": "error",
     "traceback": [
      "\u001b[1;31m---------------------------------------------------------------------------\u001b[0m",
      "\u001b[1;31mKeyboardInterrupt\u001b[0m                         Traceback (most recent call last)",
      "Cell \u001b[1;32mIn[137], line 24\u001b[0m\n\u001b[0;32m     22\u001b[0m obj \u001b[38;5;241m=\u001b[39m Minimize(norm(((XNi \u001b[38;5;241m-\u001b[39m x \u001b[38;5;241m@\u001b[39m XM)\u001b[38;5;129m@Q\u001b[39m)\u001b[38;5;241m.\u001b[39mT)\u001b[38;5;241m+\u001b[39m x \u001b[38;5;241m@\u001b[39m sqrt(diag(quad_form(out, invcov))))\n\u001b[0;32m     23\u001b[0m constr  \u001b[38;5;241m=\u001b[39m [x \u001b[38;5;241m>\u001b[39m\u001b[38;5;241m=\u001b[39m \u001b[38;5;241m0\u001b[39m, x \u001b[38;5;241m<\u001b[39m\u001b[38;5;241m=\u001b[39m \u001b[38;5;241m1\u001b[39m, \u001b[38;5;28msum\u001b[39m(x) \u001b[38;5;241m==\u001b[39m \u001b[38;5;241m1\u001b[39m]\n\u001b[1;32m---> 24\u001b[0m val \u001b[38;5;241m=\u001b[39m Problem(obj, constr)\u001b[38;5;241m.\u001b[39msolve(solver \u001b[38;5;241m=\u001b[39m  ECOS,verbose \u001b[38;5;241m=\u001b[39m \u001b[38;5;28;01mFalse\u001b[39;00m)\n\u001b[0;32m     25\u001b[0m x_out \u001b[38;5;241m=\u001b[39m x\u001b[38;5;241m.\u001b[39mvalue\u001b[38;5;241m.\u001b[39mround(\u001b[38;5;241m5\u001b[39m)\n\u001b[0;32m     26\u001b[0m mu[i, mask] \u001b[38;5;241m=\u001b[39m x_out\n",
      "File \u001b[1;32mc:\\Users\\rablo\\anaconda3\\envs\\data_env\\Lib\\site-packages\\cvxpy\\problems\\problem.py:503\u001b[0m, in \u001b[0;36mProblem.solve\u001b[1;34m(self, *args, **kwargs)\u001b[0m\n\u001b[0;32m    501\u001b[0m \u001b[38;5;28;01melse\u001b[39;00m:\n\u001b[0;32m    502\u001b[0m     solve_func \u001b[38;5;241m=\u001b[39m Problem\u001b[38;5;241m.\u001b[39m_solve\n\u001b[1;32m--> 503\u001b[0m \u001b[38;5;28;01mreturn\u001b[39;00m solve_func(\u001b[38;5;28mself\u001b[39m, \u001b[38;5;241m*\u001b[39margs, \u001b[38;5;241m*\u001b[39m\u001b[38;5;241m*\u001b[39mkwargs)\n",
      "File \u001b[1;32mc:\\Users\\rablo\\anaconda3\\envs\\data_env\\Lib\\site-packages\\cvxpy\\problems\\problem.py:1073\u001b[0m, in \u001b[0;36mProblem._solve\u001b[1;34m(self, solver, warm_start, verbose, gp, qcp, requires_grad, enforce_dpp, ignore_dpp, canon_backend, **kwargs)\u001b[0m\n\u001b[0;32m   1070\u001b[0m         \u001b[38;5;28mself\u001b[39m\u001b[38;5;241m.\u001b[39munpack(chain\u001b[38;5;241m.\u001b[39mretrieve(soln))\n\u001b[0;32m   1071\u001b[0m         \u001b[38;5;28;01mreturn\u001b[39;00m \u001b[38;5;28mself\u001b[39m\u001b[38;5;241m.\u001b[39mvalue\n\u001b[1;32m-> 1073\u001b[0m data, solving_chain, inverse_data \u001b[38;5;241m=\u001b[39m \u001b[38;5;28mself\u001b[39m\u001b[38;5;241m.\u001b[39mget_problem_data(\n\u001b[0;32m   1074\u001b[0m     solver, gp, enforce_dpp, ignore_dpp, verbose, canon_backend, kwargs\n\u001b[0;32m   1075\u001b[0m )\n\u001b[0;32m   1077\u001b[0m \u001b[38;5;28;01mif\u001b[39;00m verbose:\n\u001b[0;32m   1078\u001b[0m     \u001b[38;5;28mprint\u001b[39m(_NUM_SOLVER_STR)\n",
      "File \u001b[1;32mc:\\Users\\rablo\\anaconda3\\envs\\data_env\\Lib\\site-packages\\cvxpy\\problems\\problem.py:646\u001b[0m, in \u001b[0;36mProblem.get_problem_data\u001b[1;34m(self, solver, gp, enforce_dpp, ignore_dpp, verbose, canon_backend, solver_opts)\u001b[0m\n\u001b[0;32m    644\u001b[0m \u001b[38;5;28;01mif\u001b[39;00m key \u001b[38;5;241m!=\u001b[39m \u001b[38;5;28mself\u001b[39m\u001b[38;5;241m.\u001b[39m_cache\u001b[38;5;241m.\u001b[39mkey:\n\u001b[0;32m    645\u001b[0m     \u001b[38;5;28mself\u001b[39m\u001b[38;5;241m.\u001b[39m_cache\u001b[38;5;241m.\u001b[39minvalidate()\n\u001b[1;32m--> 646\u001b[0m     solving_chain \u001b[38;5;241m=\u001b[39m \u001b[38;5;28mself\u001b[39m\u001b[38;5;241m.\u001b[39m_construct_chain(\n\u001b[0;32m    647\u001b[0m         solver\u001b[38;5;241m=\u001b[39msolver, gp\u001b[38;5;241m=\u001b[39mgp,\n\u001b[0;32m    648\u001b[0m         enforce_dpp\u001b[38;5;241m=\u001b[39menforce_dpp,\n\u001b[0;32m    649\u001b[0m         ignore_dpp\u001b[38;5;241m=\u001b[39mignore_dpp,\n\u001b[0;32m    650\u001b[0m         canon_backend\u001b[38;5;241m=\u001b[39mcanon_backend,\n\u001b[0;32m    651\u001b[0m         solver_opts\u001b[38;5;241m=\u001b[39msolver_opts)\n\u001b[0;32m    652\u001b[0m     \u001b[38;5;28mself\u001b[39m\u001b[38;5;241m.\u001b[39m_cache\u001b[38;5;241m.\u001b[39mkey \u001b[38;5;241m=\u001b[39m key\n\u001b[0;32m    653\u001b[0m     \u001b[38;5;28mself\u001b[39m\u001b[38;5;241m.\u001b[39m_cache\u001b[38;5;241m.\u001b[39msolving_chain \u001b[38;5;241m=\u001b[39m solving_chain\n",
      "File \u001b[1;32mc:\\Users\\rablo\\anaconda3\\envs\\data_env\\Lib\\site-packages\\cvxpy\\problems\\problem.py:898\u001b[0m, in \u001b[0;36mProblem._construct_chain\u001b[1;34m(self, solver, gp, enforce_dpp, ignore_dpp, canon_backend, solver_opts)\u001b[0m\n\u001b[0;32m    896\u001b[0m candidate_solvers \u001b[38;5;241m=\u001b[39m \u001b[38;5;28mself\u001b[39m\u001b[38;5;241m.\u001b[39m_find_candidate_solvers(solver\u001b[38;5;241m=\u001b[39msolver, gp\u001b[38;5;241m=\u001b[39mgp)\n\u001b[0;32m    897\u001b[0m \u001b[38;5;28mself\u001b[39m\u001b[38;5;241m.\u001b[39m_sort_candidate_solvers(candidate_solvers)\n\u001b[1;32m--> 898\u001b[0m \u001b[38;5;28;01mreturn\u001b[39;00m construct_solving_chain(\u001b[38;5;28mself\u001b[39m, candidate_solvers, gp\u001b[38;5;241m=\u001b[39mgp,\n\u001b[0;32m    899\u001b[0m                                enforce_dpp\u001b[38;5;241m=\u001b[39menforce_dpp,\n\u001b[0;32m    900\u001b[0m                                ignore_dpp\u001b[38;5;241m=\u001b[39mignore_dpp,\n\u001b[0;32m    901\u001b[0m                                canon_backend\u001b[38;5;241m=\u001b[39mcanon_backend,\n\u001b[0;32m    902\u001b[0m                                solver_opts\u001b[38;5;241m=\u001b[39msolver_opts,\n\u001b[0;32m    903\u001b[0m                                specified_solver\u001b[38;5;241m=\u001b[39msolver)\n",
      "File \u001b[1;32mc:\\Users\\rablo\\anaconda3\\envs\\data_env\\Lib\\site-packages\\cvxpy\\reductions\\solvers\\solving_chain.py:226\u001b[0m, in \u001b[0;36mconstruct_solving_chain\u001b[1;34m(problem, candidates, gp, enforce_dpp, ignore_dpp, canon_backend, solver_opts, specified_solver)\u001b[0m\n\u001b[0;32m    224\u001b[0m \u001b[38;5;28;01mif\u001b[39;00m \u001b[38;5;28mlen\u001b[39m(problem\u001b[38;5;241m.\u001b[39mvariables()) \u001b[38;5;241m==\u001b[39m \u001b[38;5;241m0\u001b[39m:\n\u001b[0;32m    225\u001b[0m     \u001b[38;5;28;01mreturn\u001b[39;00m SolvingChain(reductions\u001b[38;5;241m=\u001b[39m[ConstantSolver()])\n\u001b[1;32m--> 226\u001b[0m reductions \u001b[38;5;241m=\u001b[39m _reductions_for_problem_class(problem, candidates, gp, solver_opts)\n\u001b[0;32m    228\u001b[0m \u001b[38;5;66;03m# Process DPP status of the problem.\u001b[39;00m\n\u001b[0;32m    229\u001b[0m dpp_context \u001b[38;5;241m=\u001b[39m \u001b[38;5;124m'\u001b[39m\u001b[38;5;124mdcp\u001b[39m\u001b[38;5;124m'\u001b[39m \u001b[38;5;28;01mif\u001b[39;00m \u001b[38;5;129;01mnot\u001b[39;00m gp \u001b[38;5;28;01melse\u001b[39;00m \u001b[38;5;124m'\u001b[39m\u001b[38;5;124mdgp\u001b[39m\u001b[38;5;124m'\u001b[39m\n",
      "File \u001b[1;32mc:\\Users\\rablo\\anaconda3\\envs\\data_env\\Lib\\site-packages\\cvxpy\\reductions\\solvers\\solving_chain.py:133\u001b[0m, in \u001b[0;36m_reductions_for_problem_class\u001b[1;34m(problem, candidates, gp, solver_opts)\u001b[0m\n\u001b[0;32m    130\u001b[0m \u001b[38;5;28;01mif\u001b[39;00m gp:\n\u001b[0;32m    131\u001b[0m     reductions \u001b[38;5;241m+\u001b[39m\u001b[38;5;241m=\u001b[39m [Dgp2Dcp()]\n\u001b[1;32m--> 133\u001b[0m \u001b[38;5;28;01mif\u001b[39;00m \u001b[38;5;129;01mnot\u001b[39;00m gp \u001b[38;5;129;01mand\u001b[39;00m \u001b[38;5;129;01mnot\u001b[39;00m problem\u001b[38;5;241m.\u001b[39mis_dcp():\n\u001b[0;32m    134\u001b[0m     append \u001b[38;5;241m=\u001b[39m build_non_disciplined_error_msg(problem, \u001b[38;5;124m'\u001b[39m\u001b[38;5;124mDCP\u001b[39m\u001b[38;5;124m'\u001b[39m)\n\u001b[0;32m    135\u001b[0m     \u001b[38;5;28;01mif\u001b[39;00m problem\u001b[38;5;241m.\u001b[39mis_dgp():\n",
      "File \u001b[1;32mc:\\Users\\rablo\\anaconda3\\envs\\data_env\\Lib\\site-packages\\cvxpy\\utilities\\performance_utils.py:73\u001b[0m, in \u001b[0;36mcompute_once.<locals>._compute_once\u001b[1;34m(self, *args, **kwargs)\u001b[0m\n\u001b[0;32m     71\u001b[0m \u001b[38;5;28;01mif\u001b[39;00m key \u001b[38;5;129;01min\u001b[39;00m cache:\n\u001b[0;32m     72\u001b[0m     \u001b[38;5;28;01mreturn\u001b[39;00m cache[key]\n\u001b[1;32m---> 73\u001b[0m result \u001b[38;5;241m=\u001b[39m func(\u001b[38;5;28mself\u001b[39m, \u001b[38;5;241m*\u001b[39margs, \u001b[38;5;241m*\u001b[39m\u001b[38;5;241m*\u001b[39mkwargs)\n\u001b[0;32m     74\u001b[0m cache[key] \u001b[38;5;241m=\u001b[39m result\n\u001b[0;32m     75\u001b[0m \u001b[38;5;28;01mreturn\u001b[39;00m result\n",
      "File \u001b[1;32mc:\\Users\\rablo\\anaconda3\\envs\\data_env\\Lib\\site-packages\\cvxpy\\problems\\problem.py:257\u001b[0m, in \u001b[0;36mProblem.is_dcp\u001b[1;34m(self, dpp)\u001b[0m\n\u001b[0;32m    237\u001b[0m \u001b[38;5;129m@perf\u001b[39m\u001b[38;5;241m.\u001b[39mcompute_once\n\u001b[0;32m    238\u001b[0m \u001b[38;5;28;01mdef\u001b[39;00m \u001b[38;5;21mis_dcp\u001b[39m(\u001b[38;5;28mself\u001b[39m, dpp: \u001b[38;5;28mbool\u001b[39m \u001b[38;5;241m=\u001b[39m \u001b[38;5;28;01mFalse\u001b[39;00m) \u001b[38;5;241m-\u001b[39m\u001b[38;5;241m>\u001b[39m \u001b[38;5;28mbool\u001b[39m:\n\u001b[0;32m    239\u001b[0m \u001b[38;5;250m    \u001b[39m\u001b[38;5;124;03m\"\"\"Does the problem satisfy DCP rules?\u001b[39;00m\n\u001b[0;32m    240\u001b[0m \n\u001b[0;32m    241\u001b[0m \u001b[38;5;124;03m    Arguments\u001b[39;00m\n\u001b[1;32m   (...)\u001b[0m\n\u001b[0;32m    255\u001b[0m \u001b[38;5;124;03m        True if the Expression is DCP, False otherwise.\u001b[39;00m\n\u001b[0;32m    256\u001b[0m \u001b[38;5;124;03m    \"\"\"\u001b[39;00m\n\u001b[1;32m--> 257\u001b[0m     \u001b[38;5;28;01mreturn\u001b[39;00m \u001b[38;5;28mall\u001b[39m(\n\u001b[0;32m    258\u001b[0m       expr\u001b[38;5;241m.\u001b[39mis_dcp(dpp) \u001b[38;5;28;01mfor\u001b[39;00m expr \u001b[38;5;129;01min\u001b[39;00m \u001b[38;5;28mself\u001b[39m\u001b[38;5;241m.\u001b[39mconstraints \u001b[38;5;241m+\u001b[39m [\u001b[38;5;28mself\u001b[39m\u001b[38;5;241m.\u001b[39mobjective])\n",
      "File \u001b[1;32mc:\\Users\\rablo\\anaconda3\\envs\\data_env\\Lib\\site-packages\\cvxpy\\problems\\problem.py:258\u001b[0m, in \u001b[0;36m<genexpr>\u001b[1;34m(.0)\u001b[0m\n\u001b[0;32m    237\u001b[0m \u001b[38;5;129m@perf\u001b[39m\u001b[38;5;241m.\u001b[39mcompute_once\n\u001b[0;32m    238\u001b[0m \u001b[38;5;28;01mdef\u001b[39;00m \u001b[38;5;21mis_dcp\u001b[39m(\u001b[38;5;28mself\u001b[39m, dpp: \u001b[38;5;28mbool\u001b[39m \u001b[38;5;241m=\u001b[39m \u001b[38;5;28;01mFalse\u001b[39;00m) \u001b[38;5;241m-\u001b[39m\u001b[38;5;241m>\u001b[39m \u001b[38;5;28mbool\u001b[39m:\n\u001b[0;32m    239\u001b[0m \u001b[38;5;250m    \u001b[39m\u001b[38;5;124;03m\"\"\"Does the problem satisfy DCP rules?\u001b[39;00m\n\u001b[0;32m    240\u001b[0m \n\u001b[0;32m    241\u001b[0m \u001b[38;5;124;03m    Arguments\u001b[39;00m\n\u001b[1;32m   (...)\u001b[0m\n\u001b[0;32m    255\u001b[0m \u001b[38;5;124;03m        True if the Expression is DCP, False otherwise.\u001b[39;00m\n\u001b[0;32m    256\u001b[0m \u001b[38;5;124;03m    \"\"\"\u001b[39;00m\n\u001b[0;32m    257\u001b[0m     \u001b[38;5;28;01mreturn\u001b[39;00m \u001b[38;5;28mall\u001b[39m(\n\u001b[1;32m--> 258\u001b[0m       expr\u001b[38;5;241m.\u001b[39mis_dcp(dpp) \u001b[38;5;28;01mfor\u001b[39;00m expr \u001b[38;5;129;01min\u001b[39;00m \u001b[38;5;28mself\u001b[39m\u001b[38;5;241m.\u001b[39mconstraints \u001b[38;5;241m+\u001b[39m [\u001b[38;5;28mself\u001b[39m\u001b[38;5;241m.\u001b[39mobjective])\n",
      "File \u001b[1;32mc:\\Users\\rablo\\anaconda3\\envs\\data_env\\Lib\\site-packages\\cvxpy\\constraints\\zero.py:142\u001b[0m, in \u001b[0;36mEquality.is_dcp\u001b[1;34m(self, dpp)\u001b[0m\n\u001b[0;32m    140\u001b[0m     \u001b[38;5;28;01mwith\u001b[39;00m scopes\u001b[38;5;241m.\u001b[39mdpp_scope():\n\u001b[0;32m    141\u001b[0m         \u001b[38;5;28;01mreturn\u001b[39;00m \u001b[38;5;28mself\u001b[39m\u001b[38;5;241m.\u001b[39mexpr\u001b[38;5;241m.\u001b[39mis_affine()\n\u001b[1;32m--> 142\u001b[0m \u001b[38;5;28;01mreturn\u001b[39;00m \u001b[38;5;28mself\u001b[39m\u001b[38;5;241m.\u001b[39mexpr\u001b[38;5;241m.\u001b[39mis_affine()\n",
      "File \u001b[1;32mc:\\Users\\rablo\\anaconda3\\envs\\data_env\\Lib\\site-packages\\cvxpy\\utilities\\performance_utils.py:73\u001b[0m, in \u001b[0;36mcompute_once.<locals>._compute_once\u001b[1;34m(self, *args, **kwargs)\u001b[0m\n\u001b[0;32m     71\u001b[0m \u001b[38;5;28;01mif\u001b[39;00m key \u001b[38;5;129;01min\u001b[39;00m cache:\n\u001b[0;32m     72\u001b[0m     \u001b[38;5;28;01mreturn\u001b[39;00m cache[key]\n\u001b[1;32m---> 73\u001b[0m result \u001b[38;5;241m=\u001b[39m func(\u001b[38;5;28mself\u001b[39m, \u001b[38;5;241m*\u001b[39margs, \u001b[38;5;241m*\u001b[39m\u001b[38;5;241m*\u001b[39mkwargs)\n\u001b[0;32m     74\u001b[0m cache[key] \u001b[38;5;241m=\u001b[39m result\n\u001b[0;32m     75\u001b[0m \u001b[38;5;28;01mreturn\u001b[39;00m result\n",
      "File \u001b[1;32mc:\\Users\\rablo\\anaconda3\\envs\\data_env\\Lib\\site-packages\\cvxpy\\expressions\\expression.py:250\u001b[0m, in \u001b[0;36mExpression.is_affine\u001b[1;34m(self)\u001b[0m\n\u001b[0;32m    246\u001b[0m \u001b[38;5;129m@perf\u001b[39m\u001b[38;5;241m.\u001b[39mcompute_once\n\u001b[0;32m    247\u001b[0m \u001b[38;5;28;01mdef\u001b[39;00m \u001b[38;5;21mis_affine\u001b[39m(\u001b[38;5;28mself\u001b[39m) \u001b[38;5;241m-\u001b[39m\u001b[38;5;241m>\u001b[39m \u001b[38;5;28mbool\u001b[39m:\n\u001b[0;32m    248\u001b[0m \u001b[38;5;250m    \u001b[39m\u001b[38;5;124;03m\"\"\"Is the expression affine?\u001b[39;00m\n\u001b[0;32m    249\u001b[0m \u001b[38;5;124;03m    \"\"\"\u001b[39;00m\n\u001b[1;32m--> 250\u001b[0m     \u001b[38;5;28;01mreturn\u001b[39;00m \u001b[38;5;28mself\u001b[39m\u001b[38;5;241m.\u001b[39mis_constant() \u001b[38;5;129;01mor\u001b[39;00m (\u001b[38;5;28mself\u001b[39m\u001b[38;5;241m.\u001b[39mis_convex() \u001b[38;5;129;01mand\u001b[39;00m \u001b[38;5;28mself\u001b[39m\u001b[38;5;241m.\u001b[39mis_concave())\n",
      "File \u001b[1;32mc:\\Users\\rablo\\anaconda3\\envs\\data_env\\Lib\\site-packages\\cvxpy\\utilities\\performance_utils.py:73\u001b[0m, in \u001b[0;36mcompute_once.<locals>._compute_once\u001b[1;34m(self, *args, **kwargs)\u001b[0m\n\u001b[0;32m     71\u001b[0m \u001b[38;5;28;01mif\u001b[39;00m key \u001b[38;5;129;01min\u001b[39;00m cache:\n\u001b[0;32m     72\u001b[0m     \u001b[38;5;28;01mreturn\u001b[39;00m cache[key]\n\u001b[1;32m---> 73\u001b[0m result \u001b[38;5;241m=\u001b[39m func(\u001b[38;5;28mself\u001b[39m, \u001b[38;5;241m*\u001b[39margs, \u001b[38;5;241m*\u001b[39m\u001b[38;5;241m*\u001b[39mkwargs)\n\u001b[0;32m     74\u001b[0m cache[key] \u001b[38;5;241m=\u001b[39m result\n\u001b[0;32m     75\u001b[0m \u001b[38;5;28;01mreturn\u001b[39;00m result\n",
      "File \u001b[1;32mc:\\Users\\rablo\\anaconda3\\envs\\data_env\\Lib\\site-packages\\cvxpy\\atoms\\atom.py:178\u001b[0m, in \u001b[0;36mAtom.is_convex\u001b[1;34m(self)\u001b[0m\n\u001b[0;32m    176\u001b[0m \u001b[38;5;28;01melif\u001b[39;00m \u001b[38;5;28mself\u001b[39m\u001b[38;5;241m.\u001b[39mis_atom_convex():\n\u001b[0;32m    177\u001b[0m     \u001b[38;5;28;01mfor\u001b[39;00m idx, arg \u001b[38;5;129;01min\u001b[39;00m \u001b[38;5;28menumerate\u001b[39m(\u001b[38;5;28mself\u001b[39m\u001b[38;5;241m.\u001b[39margs):\n\u001b[1;32m--> 178\u001b[0m         \u001b[38;5;28;01mif\u001b[39;00m \u001b[38;5;129;01mnot\u001b[39;00m (arg\u001b[38;5;241m.\u001b[39mis_affine() \u001b[38;5;129;01mor\u001b[39;00m\n\u001b[0;32m    179\u001b[0m                 (arg\u001b[38;5;241m.\u001b[39mis_convex() \u001b[38;5;129;01mand\u001b[39;00m \u001b[38;5;28mself\u001b[39m\u001b[38;5;241m.\u001b[39mis_incr(idx)) \u001b[38;5;129;01mor\u001b[39;00m\n\u001b[0;32m    180\u001b[0m                 (arg\u001b[38;5;241m.\u001b[39mis_concave() \u001b[38;5;129;01mand\u001b[39;00m \u001b[38;5;28mself\u001b[39m\u001b[38;5;241m.\u001b[39mis_decr(idx))):\n\u001b[0;32m    181\u001b[0m             \u001b[38;5;28;01mreturn\u001b[39;00m \u001b[38;5;28;01mFalse\u001b[39;00m\n\u001b[0;32m    182\u001b[0m     \u001b[38;5;28;01mreturn\u001b[39;00m \u001b[38;5;28;01mTrue\u001b[39;00m\n",
      "File \u001b[1;32mc:\\Users\\rablo\\anaconda3\\envs\\data_env\\Lib\\site-packages\\cvxpy\\utilities\\performance_utils.py:73\u001b[0m, in \u001b[0;36mcompute_once.<locals>._compute_once\u001b[1;34m(self, *args, **kwargs)\u001b[0m\n\u001b[0;32m     71\u001b[0m \u001b[38;5;28;01mif\u001b[39;00m key \u001b[38;5;129;01min\u001b[39;00m cache:\n\u001b[0;32m     72\u001b[0m     \u001b[38;5;28;01mreturn\u001b[39;00m cache[key]\n\u001b[1;32m---> 73\u001b[0m result \u001b[38;5;241m=\u001b[39m func(\u001b[38;5;28mself\u001b[39m, \u001b[38;5;241m*\u001b[39margs, \u001b[38;5;241m*\u001b[39m\u001b[38;5;241m*\u001b[39mkwargs)\n\u001b[0;32m     74\u001b[0m cache[key] \u001b[38;5;241m=\u001b[39m result\n\u001b[0;32m     75\u001b[0m \u001b[38;5;28;01mreturn\u001b[39;00m result\n",
      "File \u001b[1;32mc:\\Users\\rablo\\anaconda3\\envs\\data_env\\Lib\\site-packages\\cvxpy\\expressions\\expression.py:250\u001b[0m, in \u001b[0;36mExpression.is_affine\u001b[1;34m(self)\u001b[0m\n\u001b[0;32m    246\u001b[0m \u001b[38;5;129m@perf\u001b[39m\u001b[38;5;241m.\u001b[39mcompute_once\n\u001b[0;32m    247\u001b[0m \u001b[38;5;28;01mdef\u001b[39;00m \u001b[38;5;21mis_affine\u001b[39m(\u001b[38;5;28mself\u001b[39m) \u001b[38;5;241m-\u001b[39m\u001b[38;5;241m>\u001b[39m \u001b[38;5;28mbool\u001b[39m:\n\u001b[0;32m    248\u001b[0m \u001b[38;5;250m    \u001b[39m\u001b[38;5;124;03m\"\"\"Is the expression affine?\u001b[39;00m\n\u001b[0;32m    249\u001b[0m \u001b[38;5;124;03m    \"\"\"\u001b[39;00m\n\u001b[1;32m--> 250\u001b[0m     \u001b[38;5;28;01mreturn\u001b[39;00m \u001b[38;5;28mself\u001b[39m\u001b[38;5;241m.\u001b[39mis_constant() \u001b[38;5;129;01mor\u001b[39;00m (\u001b[38;5;28mself\u001b[39m\u001b[38;5;241m.\u001b[39mis_convex() \u001b[38;5;129;01mand\u001b[39;00m \u001b[38;5;28mself\u001b[39m\u001b[38;5;241m.\u001b[39mis_concave())\n",
      "File \u001b[1;32mc:\\Users\\rablo\\anaconda3\\envs\\data_env\\Lib\\site-packages\\cvxpy\\utilities\\performance_utils.py:63\u001b[0m, in \u001b[0;36mcompute_once.<locals>._compute_once\u001b[1;34m(self, *args, **kwargs)\u001b[0m\n\u001b[0;32m     51\u001b[0m \u001b[38;5;28;01mdef\u001b[39;00m \u001b[38;5;21mcompute_once\u001b[39m(func: Callable[[T], R]) \u001b[38;5;241m-\u001b[39m\u001b[38;5;241m>\u001b[39m Callable[[T], R]:\n\u001b[0;32m     52\u001b[0m \u001b[38;5;250m    \u001b[39m\u001b[38;5;124;03m\"\"\"Computes an instance method caches the result.\u001b[39;00m\n\u001b[0;32m     53\u001b[0m \n\u001b[0;32m     54\u001b[0m \u001b[38;5;124;03m    A result is stored for each unique combination of arguments and\u001b[39;00m\n\u001b[1;32m   (...)\u001b[0m\n\u001b[0;32m     60\u001b[0m \u001b[38;5;124;03m    large number of argument and keyword argument combinations.\u001b[39;00m\n\u001b[0;32m     61\u001b[0m \u001b[38;5;124;03m     \"\"\"\u001b[39;00m\n\u001b[1;32m---> 63\u001b[0m     \u001b[38;5;129m@functools\u001b[39m\u001b[38;5;241m.\u001b[39mwraps(func)\n\u001b[0;32m     64\u001b[0m     \u001b[38;5;28;01mdef\u001b[39;00m \u001b[38;5;21m_compute_once\u001b[39m(\u001b[38;5;28mself\u001b[39m, \u001b[38;5;241m*\u001b[39margs, \u001b[38;5;241m*\u001b[39m\u001b[38;5;241m*\u001b[39mkwargs) \u001b[38;5;241m-\u001b[39m\u001b[38;5;241m>\u001b[39m R:\n\u001b[0;32m     65\u001b[0m         cache_name \u001b[38;5;241m=\u001b[39m func\u001b[38;5;241m.\u001b[39m\u001b[38;5;18m__name__\u001b[39m \u001b[38;5;241m+\u001b[39m \u001b[38;5;124m'\u001b[39m\u001b[38;5;124m__cache__\u001b[39m\u001b[38;5;124m'\u001b[39m\n\u001b[0;32m     66\u001b[0m         \u001b[38;5;28;01mif\u001b[39;00m \u001b[38;5;129;01mnot\u001b[39;00m \u001b[38;5;28mhasattr\u001b[39m(\u001b[38;5;28mself\u001b[39m, cache_name):\n\u001b[0;32m     67\u001b[0m             \u001b[38;5;66;03m# On first call, the cache is created and stored in self\u001b[39;00m\n",
      "\u001b[1;31mKeyboardInterrupt\u001b[0m: "
     ]
    }
   ],
   "source": [
    "np.random.seed(18)\n",
    "n = 6000\n",
    "mu = np.zeros((n,n))\n",
    "soc = 15\n",
    "X = np.random.random((n, 1+ soc))\n",
    "X[:,0] = np.random.choice([0, 1], size=n, p=[.5, .5])\n",
    "\n",
    "cov = np.random.rand(soc, soc)\n",
    "cov = np.dot(cov, cov.T)\n",
    "invcov = np.linalg.inv(cov)\n",
    "Q = np.linalg.cholesky(invcov)\n",
    "\n",
    "for i in tqdm(range(n)):\n",
    "    XNi = X[i,1:]\n",
    "    mask = X[:,0] != X[i,0]\n",
    "    XM  = X[mask,1:]\n",
    "\n",
    "    num = mask.sum()\n",
    "    x = Variable(num , name = \"x\")\n",
    "    out = (XNi - XM).T\n",
    "    Q = np.linalg.cholesky(invcov)\n",
    "    obj = Minimize(norm(((XNi - x @ XM)@Q).T)+ x @ sqrt(diag(quad_form(out, invcov))))\n",
    "    constr  = [x >= 0, x <= 1, sum(x) == 1]\n",
    "    val = Problem(obj, constr).solve(solver =  ECOS,verbose = False)\n",
    "    x_out = x.value.round(5)\n",
    "    mu[i, mask] = x_out"
   ]
  },
  {
   "cell_type": "code",
   "execution_count": 37,
   "metadata": {},
   "outputs": [],
   "source": [
    "social_vars = [\"sexo\",\n",
    "                \"edad_anios\",\n",
    "                \"quintil_2\",\n",
    "                \"quintil_3\",\n",
    "                \"quintil_4\",\n",
    "                \"quintil_5\",\n",
    "                'nivel_escolaridad_primaria',\n",
    "                'nivel_escolaridad_secundaria',\n",
    "                'nivel_escolaridad_técnica',\n",
    "                'nivel_escolaridad_universitaria',\n",
    "                \"estudia\",\n",
    "                \"trabaja\",\n",
    "                'macrozona_norte',\n",
    "                'macrozona_centro',\n",
    "                'macrozona_sur',\n",
    "                \"horas_trabajo\",\n",
    "                \"n_menores\",\n",
    "                \"n_personas\"]\n",
    "\n",
    "data = pl.read_csv(\"../data/raw/ENUT_PRE_WEEKEND_IMPUTATION.csv\",\n",
    "                    infer_schema_length=100000,\n",
    "                    null_values = \"NA\")\n",
    "data =  (\n",
    "    data\n",
    "    .with_columns(quintil=pl.col(\"quintil\").cast(int))\n",
    "    .to_dummies(columns=[\"quintil\", \"macrozona\", \"nivel_escolaridad\"])\n",
    "    .sort(\"id_persona\")\n",
    "    .select([\"dia_fin_semana\"] + social_vars )\n",
    "    )\n",
    "data = data[0:500,:]"
   ]
  },
  {
   "cell_type": "code",
   "execution_count": 38,
   "metadata": {},
   "outputs": [
    {
     "name": "stderr",
     "output_type": "stream",
     "text": [
      "  0%|          | 0/500 [00:00<?, ?it/s]\n"
     ]
    },
    {
     "ename": "SolverError",
     "evalue": "The solver ECOS is not installed.",
     "output_type": "error",
     "traceback": [
      "\u001b[31m---------------------------------------------------------------------------\u001b[39m",
      "\u001b[31mSolverError\u001b[39m                               Traceback (most recent call last)",
      "\u001b[36mCell\u001b[39m\u001b[36m \u001b[39m\u001b[32mIn[38]\u001b[39m\u001b[32m, line 26\u001b[39m\n\u001b[32m     23\u001b[39m obj = Minimize(norm(((XNi - x @ XM)\u001b[38;5;129m@sh_Q\u001b[39m).T)+ x @ sqrt(diag(quad_form(temp, sh_covinv))))\n\u001b[32m     24\u001b[39m constr  = [x >= \u001b[32m0\u001b[39m, x <= \u001b[32m1\u001b[39m, \u001b[38;5;28msum\u001b[39m(x) == \u001b[32m1\u001b[39m]\n\u001b[32m---> \u001b[39m\u001b[32m26\u001b[39m val = \u001b[43mProblem\u001b[49m\u001b[43m(\u001b[49m\u001b[43mobj\u001b[49m\u001b[43m,\u001b[49m\u001b[43m \u001b[49m\u001b[43mconstr\u001b[49m\u001b[43m)\u001b[49m\u001b[43m.\u001b[49m\u001b[43msolve\u001b[49m\u001b[43m(\u001b[49m\u001b[43msolver\u001b[49m\u001b[43m \u001b[49m\u001b[43m=\u001b[49m\u001b[43m  \u001b[49m\u001b[43mECOS\u001b[49m\u001b[43m,\u001b[49m\u001b[43mverbose\u001b[49m\u001b[43m \u001b[49m\u001b[43m=\u001b[49m\u001b[43m \u001b[49m\u001b[38;5;28;43;01mFalse\u001b[39;49;00m\u001b[43m)\u001b[49m\n\u001b[32m     27\u001b[39m out = x.value.clip(\u001b[38;5;28mmin\u001b[39m=\u001b[32m0\u001b[39m).round(\u001b[32m5\u001b[39m)\n\u001b[32m     28\u001b[39m sh_mu[i, mask] = out\n",
      "\u001b[36mFile \u001b[39m\u001b[32mc:\\Users\\rablo\\miniconda3\\envs\\enut-env\\Lib\\site-packages\\cvxpy\\problems\\problem.py:577\u001b[39m, in \u001b[36mProblem.solve\u001b[39m\u001b[34m(self, *args, **kwargs)\u001b[39m\n\u001b[32m    574\u001b[39m         \u001b[38;5;28;01mraise\u001b[39;00m \u001b[38;5;167;01mValueError\u001b[39;00m(\n\u001b[32m    575\u001b[39m             \u001b[33m\"\u001b[39m\u001b[33mCannot specify both \u001b[39m\u001b[33m'\u001b[39m\u001b[33msolver\u001b[39m\u001b[33m'\u001b[39m\u001b[33m and \u001b[39m\u001b[33m'\u001b[39m\u001b[33msolver_path\u001b[39m\u001b[33m'\u001b[39m\u001b[33m. Please choose one.\u001b[39m\u001b[33m\"\u001b[39m)\n\u001b[32m    576\u001b[39m     \u001b[38;5;28;01mreturn\u001b[39;00m \u001b[38;5;28mself\u001b[39m._solve_solver_path(solve_func,solver_path, args, kwargs)\n\u001b[32m--> \u001b[39m\u001b[32m577\u001b[39m \u001b[38;5;28;01mreturn\u001b[39;00m \u001b[43msolve_func\u001b[49m\u001b[43m(\u001b[49m\u001b[38;5;28;43mself\u001b[39;49m\u001b[43m,\u001b[49m\u001b[43m \u001b[49m\u001b[43m*\u001b[49m\u001b[43margs\u001b[49m\u001b[43m,\u001b[49m\u001b[43m \u001b[49m\u001b[43m*\u001b[49m\u001b[43m*\u001b[49m\u001b[43mkwargs\u001b[49m\u001b[43m)\u001b[49m\n",
      "\u001b[36mFile \u001b[39m\u001b[32mc:\\Users\\rablo\\miniconda3\\envs\\enut-env\\Lib\\site-packages\\cvxpy\\problems\\problem.py:1147\u001b[39m, in \u001b[36mProblem._solve\u001b[39m\u001b[34m(self, solver, warm_start, verbose, gp, qcp, requires_grad, enforce_dpp, ignore_dpp, canon_backend, **kwargs)\u001b[39m\n\u001b[32m   1144\u001b[39m         \u001b[38;5;28mself\u001b[39m.unpack(chain.retrieve(soln))\n\u001b[32m   1145\u001b[39m         \u001b[38;5;28;01mreturn\u001b[39;00m \u001b[38;5;28mself\u001b[39m.value\n\u001b[32m-> \u001b[39m\u001b[32m1147\u001b[39m data, solving_chain, inverse_data = \u001b[38;5;28;43mself\u001b[39;49m\u001b[43m.\u001b[49m\u001b[43mget_problem_data\u001b[49m\u001b[43m(\u001b[49m\n\u001b[32m   1148\u001b[39m \u001b[43m    \u001b[49m\u001b[43msolver\u001b[49m\u001b[43m,\u001b[49m\u001b[43m \u001b[49m\u001b[43mgp\u001b[49m\u001b[43m,\u001b[49m\u001b[43m \u001b[49m\u001b[43menforce_dpp\u001b[49m\u001b[43m,\u001b[49m\u001b[43m \u001b[49m\u001b[43mignore_dpp\u001b[49m\u001b[43m,\u001b[49m\u001b[43m \u001b[49m\u001b[43mverbose\u001b[49m\u001b[43m,\u001b[49m\u001b[43m \u001b[49m\u001b[43mcanon_backend\u001b[49m\u001b[43m,\u001b[49m\u001b[43m \u001b[49m\u001b[43mkwargs\u001b[49m\n\u001b[32m   1149\u001b[39m \u001b[43m\u001b[49m\u001b[43m)\u001b[49m\n\u001b[32m   1151\u001b[39m \u001b[38;5;28;01mif\u001b[39;00m verbose:\n\u001b[32m   1152\u001b[39m     \u001b[38;5;28mprint\u001b[39m(_NUM_SOLVER_STR)\n",
      "\u001b[36mFile \u001b[39m\u001b[32mc:\\Users\\rablo\\miniconda3\\envs\\enut-env\\Lib\\site-packages\\cvxpy\\problems\\problem.py:720\u001b[39m, in \u001b[36mProblem.get_problem_data\u001b[39m\u001b[34m(self, solver, gp, enforce_dpp, ignore_dpp, verbose, canon_backend, solver_opts)\u001b[39m\n\u001b[32m    718\u001b[39m \u001b[38;5;28;01mif\u001b[39;00m key != \u001b[38;5;28mself\u001b[39m._cache.key:\n\u001b[32m    719\u001b[39m     \u001b[38;5;28mself\u001b[39m._cache.invalidate()\n\u001b[32m--> \u001b[39m\u001b[32m720\u001b[39m     solving_chain = \u001b[38;5;28;43mself\u001b[39;49m\u001b[43m.\u001b[49m\u001b[43m_construct_chain\u001b[49m\u001b[43m(\u001b[49m\n\u001b[32m    721\u001b[39m \u001b[43m        \u001b[49m\u001b[43msolver\u001b[49m\u001b[43m=\u001b[49m\u001b[43msolver\u001b[49m\u001b[43m,\u001b[49m\u001b[43m \u001b[49m\u001b[43mgp\u001b[49m\u001b[43m=\u001b[49m\u001b[43mgp\u001b[49m\u001b[43m,\u001b[49m\n\u001b[32m    722\u001b[39m \u001b[43m        \u001b[49m\u001b[43menforce_dpp\u001b[49m\u001b[43m=\u001b[49m\u001b[43menforce_dpp\u001b[49m\u001b[43m,\u001b[49m\n\u001b[32m    723\u001b[39m \u001b[43m        \u001b[49m\u001b[43mignore_dpp\u001b[49m\u001b[43m=\u001b[49m\u001b[43mignore_dpp\u001b[49m\u001b[43m,\u001b[49m\n\u001b[32m    724\u001b[39m \u001b[43m        \u001b[49m\u001b[43mcanon_backend\u001b[49m\u001b[43m=\u001b[49m\u001b[43mcanon_backend\u001b[49m\u001b[43m,\u001b[49m\n\u001b[32m    725\u001b[39m \u001b[43m        \u001b[49m\u001b[43msolver_opts\u001b[49m\u001b[43m=\u001b[49m\u001b[43msolver_opts\u001b[49m\u001b[43m)\u001b[49m\n\u001b[32m    726\u001b[39m     \u001b[38;5;28mself\u001b[39m._cache.key = key\n\u001b[32m    727\u001b[39m     \u001b[38;5;28mself\u001b[39m._cache.solving_chain = solving_chain\n",
      "\u001b[36mFile \u001b[39m\u001b[32mc:\\Users\\rablo\\miniconda3\\envs\\enut-env\\Lib\\site-packages\\cvxpy\\problems\\problem.py:969\u001b[39m, in \u001b[36mProblem._construct_chain\u001b[39m\u001b[34m(self, solver, gp, enforce_dpp, ignore_dpp, canon_backend, solver_opts)\u001b[39m\n\u001b[32m    927\u001b[39m \u001b[38;5;28;01mdef\u001b[39;00m\u001b[38;5;250m \u001b[39m\u001b[34m_construct_chain\u001b[39m(\n\u001b[32m    928\u001b[39m         \u001b[38;5;28mself\u001b[39m,\n\u001b[32m    929\u001b[39m         solver: Optional[\u001b[38;5;28mstr\u001b[39m] = \u001b[38;5;28;01mNone\u001b[39;00m,\n\u001b[32m   (...)\u001b[39m\u001b[32m    934\u001b[39m         solver_opts: Optional[\u001b[38;5;28mdict\u001b[39m] = \u001b[38;5;28;01mNone\u001b[39;00m\n\u001b[32m    935\u001b[39m ) -> SolvingChain:\n\u001b[32m    936\u001b[39m \u001b[38;5;250m    \u001b[39m\u001b[33;03m\"\"\"\u001b[39;00m\n\u001b[32m    937\u001b[39m \u001b[33;03m    Construct the chains required to reformulate and solve the problem.\u001b[39;00m\n\u001b[32m    938\u001b[39m \n\u001b[32m   (...)\u001b[39m\u001b[32m    967\u001b[39m \u001b[33;03m    A solving chain\u001b[39;00m\n\u001b[32m    968\u001b[39m \u001b[33;03m    \"\"\"\u001b[39;00m\n\u001b[32m--> \u001b[39m\u001b[32m969\u001b[39m     candidate_solvers = \u001b[38;5;28;43mself\u001b[39;49m\u001b[43m.\u001b[49m\u001b[43m_find_candidate_solvers\u001b[49m\u001b[43m(\u001b[49m\u001b[43msolver\u001b[49m\u001b[43m=\u001b[49m\u001b[43msolver\u001b[49m\u001b[43m,\u001b[49m\u001b[43m \u001b[49m\u001b[43mgp\u001b[49m\u001b[43m=\u001b[49m\u001b[43mgp\u001b[49m\u001b[43m)\u001b[49m\n\u001b[32m    970\u001b[39m     \u001b[38;5;28mself\u001b[39m._sort_candidate_solvers(candidate_solvers)\n\u001b[32m    971\u001b[39m     \u001b[38;5;28;01mreturn\u001b[39;00m construct_solving_chain(\u001b[38;5;28mself\u001b[39m, candidate_solvers, gp=gp,\n\u001b[32m    972\u001b[39m                                    enforce_dpp=enforce_dpp,\n\u001b[32m    973\u001b[39m                                    ignore_dpp=ignore_dpp,\n\u001b[32m    974\u001b[39m                                    canon_backend=canon_backend,\n\u001b[32m    975\u001b[39m                                    solver_opts=solver_opts,\n\u001b[32m    976\u001b[39m                                    specified_solver=solver)\n",
      "\u001b[36mFile \u001b[39m\u001b[32mc:\\Users\\rablo\\miniconda3\\envs\\enut-env\\Lib\\site-packages\\cvxpy\\problems\\problem.py:832\u001b[39m, in \u001b[36mProblem._find_candidate_solvers\u001b[39m\u001b[34m(self, solver, gp)\u001b[39m\n\u001b[32m    830\u001b[39m \u001b[38;5;28;01mif\u001b[39;00m solver \u001b[38;5;129;01mis\u001b[39;00m \u001b[38;5;129;01mnot\u001b[39;00m \u001b[38;5;28;01mNone\u001b[39;00m:\n\u001b[32m    831\u001b[39m     \u001b[38;5;28;01mif\u001b[39;00m solver \u001b[38;5;129;01mnot\u001b[39;00m \u001b[38;5;129;01min\u001b[39;00m slv_def.INSTALLED_SOLVERS:\n\u001b[32m--> \u001b[39m\u001b[32m832\u001b[39m         \u001b[38;5;28;01mraise\u001b[39;00m error.SolverError(\u001b[33m\"\u001b[39m\u001b[33mThe solver \u001b[39m\u001b[38;5;132;01m%s\u001b[39;00m\u001b[33m is not installed.\u001b[39m\u001b[33m\"\u001b[39m % solver)\n\u001b[32m    833\u001b[39m     \u001b[38;5;28;01mif\u001b[39;00m solver \u001b[38;5;129;01min\u001b[39;00m slv_def.CONIC_SOLVERS:\n\u001b[32m    834\u001b[39m         candidates[\u001b[33m'\u001b[39m\u001b[33mconic_solvers\u001b[39m\u001b[33m'\u001b[39m] += [solver]\n",
      "\u001b[31mSolverError\u001b[39m: The solver ECOS is not installed."
     ]
    }
   ],
   "source": [
    "data = data.to_numpy()\n",
    "covar = np.cov(data[:,1:].T)\n",
    "\n",
    "covinv = np.linalg.inv(covar)\n",
    "Q = np.linalg.cholesky(covinv)\n",
    "\n",
    "n = len(data)\n",
    "mu = np.zeros((n,n))\n",
    "\n",
    "sh_data = data\n",
    "sh_Q = Q\n",
    "sh_covinv = covinv\n",
    "sh_mu = mu\n",
    "\n",
    "for i in tqdm(range(n)):\n",
    "    mask = sh_data[:,0] != sh_data[i,0]\n",
    "    XNi = sh_data[i,1:]\n",
    "    XM  = sh_data[mask,1:]\n",
    "\n",
    "    temp = (XNi - XM).T\n",
    "    x = Variable(mask.sum() , name = \"x\")\n",
    "\n",
    "    obj = Minimize(norm(((XNi - x @ XM)@sh_Q).T)+ x @ sqrt(diag(quad_form(temp, sh_covinv))))\n",
    "    constr  = [x >= 0, x <= 1, sum(x) == 1]\n",
    "\n",
    "    val = Problem(obj, constr).solve(solver =  ECOS,verbose = False)\n",
    "    out = x.value.clip(min=0).round(5)\n",
    "    sh_mu[i, mask] = out"
   ]
  }
 ],
 "metadata": {
  "kernelspec": {
   "display_name": "enut-env",
   "language": "python",
   "name": "python3"
  },
  "language_info": {
   "codemirror_mode": {
    "name": "ipython",
    "version": 3
   },
   "file_extension": ".py",
   "mimetype": "text/x-python",
   "name": "python",
   "nbconvert_exporter": "python",
   "pygments_lexer": "ipython3",
   "version": "3.13.2"
  }
 },
 "nbformat": 4,
 "nbformat_minor": 2
}
